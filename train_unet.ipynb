{
 "cells": [
  {
   "cell_type": "code",
   "execution_count": 13,
   "metadata": {},
   "outputs": [],
   "source": [
    "import torch\n",
    "import torch.nn as nn\n",
    "import numpy as np\n",
    "from unet import UNet\n",
    "import matplotlib.pyplot as plt\n",
    "import torchvision.ops as ops\n",
    "import cv2 as cv\n",
    "import os"
   ]
  },
  {
   "cell_type": "code",
   "execution_count": 14,
   "metadata": {},
   "outputs": [],
   "source": [
    "torch.cuda.set_device(0)\n",
    "device = torch.device('cuda')\n",
    "loss_function = nn.BCEWithLogitsLoss()"
   ]
  },
  {
   "cell_type": "code",
   "execution_count": 15,
   "metadata": {},
   "outputs": [],
   "source": [
    "images = []\n",
    "directory = \"train\\\\\"\n",
    "for folder in os.listdir(directory):\n",
    "    inner_directory = os.path.join(directory, folder)\n",
    "    for file in os.listdir(inner_directory):\n",
    "        img = cv.imread(os.path.join(inner_directory, file))\n",
    "        img = cv.cvtColor(img, cv.COLOR_BGR2RGB)\n",
    "        img = cv.resize(img, (224, 224))\n",
    "        images.append(img)\n",
    "        images.append(cv.rotate(img, cv.ROTATE_90_CLOCKWISE))\n",
    "        images.append(cv.rotate(img, cv.ROTATE_90_COUNTERCLOCKWISE))\n",
    "        images.append(cv.rotate(img, cv.ROTATE_180))\n",
    "images = np.stack(images)/255\n",
    "\n",
    "r = images[:, :, :, 0]\n",
    "g = images[:, :, :, 1]\n",
    "b = images[:, :, :, 2]\n",
    "\n",
    "r = (r - 0.485)/(0.229)\n",
    "g = (g - 0.456)/(0.224)\n",
    "b = (b - 0.406)/(0.225)\n",
    "\n",
    "images = np.stack([r, g, b], axis=3)\n",
    "np.save(\"images.npy\", images)"
   ]
  },
  {
   "cell_type": "code",
   "execution_count": 16,
   "metadata": {},
   "outputs": [
    {
     "name": "stdout",
     "output_type": "stream",
     "text": [
      "(1348, 224, 224)\n"
     ]
    }
   ],
   "source": [
    "masks = []\n",
    "directory = \"masks\\\\\"\n",
    "for folder in os.listdir(directory):\n",
    "    inner_directory = os.path.join(directory, folder)\n",
    "    for file in os.listdir(inner_directory):\n",
    "        img = np.load(os.path.join(inner_directory, file))\n",
    "        masks.append(np.rot90(img, 0))\n",
    "        masks.append(np.rot90(img, 1, axes=(1, 0)))\n",
    "        masks.append(np.rot90(img, 1, axes=(0, 1)))\n",
    "        masks.append(np.rot90(img, 2))\n",
    "masks = np.stack(masks)\n",
    "\n",
    "print(masks.shape)\n",
    "\n",
    "np.save(\"masks.npy\", masks)"
   ]
  },
  {
   "cell_type": "code",
   "execution_count": null,
   "metadata": {},
   "outputs": [
    {
     "name": "stdout",
     "output_type": "stream",
     "text": [
      "torch.Size([1348, 224, 224])\n",
      "torch.Size([0, 224, 224])\n"
     ]
    }
   ],
   "source": [
    "images = torch.tensor(np.load(\"images.npy\"), dtype=torch.float32)\n",
    "masks = torch.tensor(np.load(\"masks.npy\"), dtype=torch.float32)\n",
    "\n",
    "# 80:20 split when validating\n",
    "# split = int(images.shape[0]*0.8)\n",
    "\n",
    "# 100:0 split when training model to submit\n",
    "split = int(images.shape[0]*1)\n",
    "train_images = images[:split]\n",
    "train_masks = masks[:split]\n",
    "\n",
    "val_images = images[split:]\n",
    "val_masks = masks[split:]\n",
    "\n",
    "print(train_masks.shape)\n",
    "print(val_masks.shape)"
   ]
  },
  {
   "cell_type": "code",
   "execution_count": 18,
   "metadata": {},
   "outputs": [],
   "source": [
    "model = UNet(num_classes=1, in_channels=3, depth=5, merge_mode='concat')\n",
    "optimizer = torch.optim.Adam(model.parameters(), lr=1e-4)\n",
    "model.to(device);"
   ]
  },
  {
   "cell_type": "code",
   "execution_count": 19,
   "metadata": {},
   "outputs": [],
   "source": [
    "def val_loss():\n",
    "\tval_losses = []\n",
    "\tfor i in range(val_images.shape[0]):\n",
    "\t\tval_losses.append(loss_function(model(val_images[i:i+1].permute(0, 3, 1, 2).to(device)).squeeze(), val_masks[i:i+1].to(device).squeeze()).item())\n",
    "\treturn (sum(val_losses)/len(val_losses))"
   ]
  },
  {
   "cell_type": "code",
   "execution_count": 20,
   "metadata": {},
   "outputs": [],
   "source": [
    "losses = []\n",
    "val_losses = []"
   ]
  },
  {
   "cell_type": "code",
   "execution_count": 21,
   "metadata": {},
   "outputs": [],
   "source": [
    "n_epochs = 100\n",
    "batch_size = 16\n",
    "\n",
    "for epoch in range(n_epochs):\n",
    "\tpermutation = torch.randperm(train_images.shape[0])\n",
    "\tfor i in range(0, permutation.shape[0], batch_size):\n",
    "\t\toptimizer.zero_grad()\n",
    "\n",
    "\t\tindices = permutation[i:i+batch_size]\n",
    "\t\tx, y = train_images[indices], train_masks[indices]\n",
    "\n",
    "\t\tx = x.to(device)\n",
    "\t\ty = y.to(device)\n",
    "\n",
    "\t\tlogits = model(x.permute(0, 3, 1, 2))\n",
    "\t\tloss = loss_function(logits.squeeze(), y.squeeze())\n",
    "\t\tlosses.append(loss.item())\n",
    "\t\t\n",
    "\t\tloss.backward()\n",
    "\t\toptimizer.step()\n",
    "\t# val_losses.append(val_loss())"
   ]
  },
  {
   "cell_type": "code",
   "execution_count": 22,
   "metadata": {},
   "outputs": [
    {
     "data": {
      "text/plain": [
       "[<matplotlib.lines.Line2D at 0x25bd1261300>]"
      ]
     },
     "execution_count": 22,
     "metadata": {},
     "output_type": "execute_result"
    },
    {
     "data": {
      "image/png": "[encoded data removed]",
      "text/plain": [
       "<Figure size 640x480 with 1 Axes>"
      ]
     },
     "metadata": {},
     "output_type": "display_data"
    }
   ],
   "source": [
    "plt.plot(losses)"
   ]
  },
  {
   "cell_type": "code",
   "execution_count": 23,
   "metadata": {},
   "outputs": [],
   "source": [
    "torch.save(model.state_dict(), \"models/unet.pt\")"
   ]
  }
 ],
 "metadata": {
  "kernelspec": {
   "display_name": "Python 3",
   "language": "python",
   "name": "python3"
  },
  "language_info": {
   "codemirror_mode": {
    "name": "ipython",
    "version": 3
   },
   "file_extension": ".py",
   "mimetype": "text/x-python",
   "name": "python",
   "nbconvert_exporter": "python",
   "pygments_lexer": "ipython3",
   "version": "3.10.6"
  }
 },
 "nbformat": 4,
 "nbformat_minor": 2
}
