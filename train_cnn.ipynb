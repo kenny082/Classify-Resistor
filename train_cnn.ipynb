{
 "cells": [
  {
   "cell_type": "code",
   "execution_count": 1,
   "metadata": {},
   "outputs": [],
   "source": [
    "import cv2 as cv\n",
    "import os\n",
    "import numpy as np\n",
    "import matplotlib.pyplot as plt\n",
    "import torch\n",
    "from torch import nn\n",
    "import torch.nn.functional as F\n",
    "import torchvision.models as models\n",
    "import torchvision.ops as ops\n",
    "from cnn import CNN"
   ]
  },
  {
   "cell_type": "code",
   "execution_count": 2,
   "metadata": {},
   "outputs": [],
   "source": [
    "torch.cuda.set_device(0)\n",
    "device = torch.device('cuda')\n",
    "loss_function = nn.CrossEntropyLoss()"
   ]
  },
  {
   "cell_type": "code",
   "execution_count": 3,
   "metadata": {},
   "outputs": [],
   "source": [
    "masks = torch.tensor(np.load(\"masks.npy\"))\n",
    "images = torch.tensor(np.load(\"images.npy\"))\n",
    "\n",
    "cropped_images = []\n",
    "for i in range(images.shape[0]):\n",
    "    points = ops.masks_to_boxes(masks[i].unsqueeze(0)).int().tolist()[0]\n",
    "    img = images[i][points[1]:points[3], points[0]:points[2]]\n",
    "    img = cv.resize(img.numpy(), (64, 64))\n",
    "    cropped_images.append(img)\n",
    "images = np.stack(cropped_images)"
   ]
  },
  {
   "cell_type": "code",
   "execution_count": 4,
   "metadata": {},
   "outputs": [],
   "source": [
    "labels = []\n",
    "directory = \"train\\\\\"\n",
    "for folder in os.listdir(directory):\n",
    "    inner_directory = os.path.join(directory, folder)\n",
    "    for file in os.listdir(inner_directory):\n",
    "        labels.append(int(folder))\n",
    "        labels.append(int(folder))\n",
    "        labels.append(int(folder))\n",
    "        labels.append(int(folder))\n",
    "labels = np.stack(labels)"
   ]
  },
  {
   "cell_type": "code",
   "execution_count": null,
   "metadata": {},
   "outputs": [
    {
     "name": "stdout",
     "output_type": "stream",
     "text": [
      "torch.Size([1348])\n",
      "torch.Size([0])\n"
     ]
    }
   ],
   "source": [
    "images = torch.tensor(images, dtype=torch.float32)\n",
    "labels = torch.tensor(labels, dtype=torch.long) - 1\n",
    "\n",
    "# 80:20 split when validating\n",
    "# split = int(images.shape[0]*0.8)\n",
    "\n",
    "# 100:0 split when training model to submit\n",
    "split = int(images.shape[0]*1)\n",
    "train_images = images[:split]\n",
    "train_labels = labels[:split]\n",
    "\n",
    "val_images = images[split:]\n",
    "val_labels = labels[split:]\n",
    "\n",
    "print(train_labels.shape)\n",
    "print(val_labels.shape)"
   ]
  },
  {
   "cell_type": "code",
   "execution_count": 6,
   "metadata": {},
   "outputs": [
    {
     "data": {
      "text/plain": [
       "CNN(\n",
       "  (layers): Sequential(\n",
       "    (0): Conv2d(3, 32, kernel_size=(5, 5), stride=(5, 5))\n",
       "    (1): ReLU()\n",
       "    (2): Conv2d(32, 64, kernel_size=(3, 3), stride=(3, 3))\n",
       "    (3): ReLU()\n",
       "    (4): Conv2d(64, 256, kernel_size=(3, 3), stride=(3, 3))\n",
       "    (5): ReLU()\n",
       "    (6): Flatten(start_dim=1, end_dim=-1)\n",
       "    (7): Linear(in_features=256, out_features=4, bias=True)\n",
       "  )\n",
       ")"
      ]
     },
     "execution_count": 6,
     "metadata": {},
     "output_type": "execute_result"
    }
   ],
   "source": [
    "model = CNN()\n",
    "optimizer = torch.optim.Adam(model.parameters(), lr=1e-3)\n",
    "model.to(device)"
   ]
  },
  {
   "cell_type": "code",
   "execution_count": 7,
   "metadata": {},
   "outputs": [],
   "source": [
    "def val_loss():\n",
    "\tval_losses = []\n",
    "\tmodel.eval()\n",
    "\tfor i in range(val_images.shape[0]):\n",
    "\t\tx = val_images[i:i+1]\n",
    "\t\ty = val_labels[i:i+1]\n",
    "\t\t\n",
    "\t\tx = x.to(device)\n",
    "\t\ty = y.to(device)\n",
    "\n",
    "\t\tlogits = model(x.permute(0, 3, 1, 2))\n",
    "\t\tloss = loss_function(logits, y)\n",
    "\t\tval_losses.append(loss.item())\n",
    "\tmodel.train();\n",
    "\treturn sum(val_losses)/len(val_losses)"
   ]
  },
  {
   "cell_type": "code",
   "execution_count": 8,
   "metadata": {},
   "outputs": [],
   "source": [
    "losses = []"
   ]
  },
  {
   "cell_type": "code",
   "execution_count": 9,
   "metadata": {},
   "outputs": [],
   "source": [
    "n_epochs = 50\n",
    "batch_size = 16\n",
    "\n",
    "for epoch in range(n_epochs):\n",
    "\tpermutation = torch.randperm(train_images.shape[0])\n",
    "\tfor i in range(0, permutation.shape[0], batch_size):\n",
    "\t\toptimizer.zero_grad()\n",
    "\n",
    "\t\tindices = permutation[i:i+batch_size]\n",
    "\t\tx, y = train_images[indices], train_labels[indices]\n",
    "\n",
    "\t\tx = x.to(device)\n",
    "\t\ty = y.to(device)\n",
    "\n",
    "\t\tlogits = model(x.permute(0, 3, 1, 2))\n",
    "\t\tloss = loss_function(logits, y)\n",
    "\t\tlosses.append(loss.item())\n",
    "\t\t\n",
    "\t\tloss.backward()\n",
    "\t\toptimizer.step()\n",
    "\t# print(val_loss())"
   ]
  },
  {
   "cell_type": "code",
   "execution_count": 10,
   "metadata": {},
   "outputs": [
    {
     "data": {
      "text/plain": [
       "[<matplotlib.lines.Line2D at 0x1dd8b5ecf40>]"
      ]
     },
     "execution_count": 10,
     "metadata": {},
     "output_type": "execute_result"
    },
    {
     "data": {
      "image/png": "[encoded data removed]",
      "text/plain": [
       "<Figure size 640x480 with 1 Axes>"
      ]
     },
     "metadata": {},
     "output_type": "display_data"
    }
   ],
   "source": [
    "plt.plot(losses)"
   ]
  },
  {
   "cell_type": "code",
   "execution_count": 10,
   "metadata": {},
   "outputs": [
    {
     "name": "stdout",
     "output_type": "stream",
     "text": [
      "0.20035929015041953\n"
     ]
    }
   ],
   "source": [
    "model.eval()\n",
    "val_losses = []\n",
    "for i in range(val_images.shape[0]):\n",
    "\tx = val_images[i:i+1]\n",
    "\ty = val_labels[i:i+1]\n",
    "\t\n",
    "\tx = x.to(device)\n",
    "\ty = y.to(device)\n",
    "\n",
    "\tlogits = model(x.permute(0, 3, 1, 2))\n",
    "\tloss = loss_function(logits, y)\n",
    "\tval_losses.append(loss.item())\n",
    "print(sum(val_losses)/len(val_losses))\n",
    "model.train();"
   ]
  },
  {
   "cell_type": "code",
   "execution_count": 11,
   "metadata": {},
   "outputs": [],
   "source": [
    "torch.save(model.state_dict(), \"models/cnn.pt\")"
   ]
  },
  {
   "cell_type": "code",
   "execution_count": null,
   "metadata": {},
   "outputs": [],
   "source": []
  }
 ],
 "metadata": {
  "kernelspec": {
   "display_name": "Python 3",
   "language": "python",
   "name": "python3"
  },
  "language_info": {
   "codemirror_mode": {
    "name": "ipython",
    "version": 3
   },
   "file_extension": ".py",
   "mimetype": "text/x-python",
   "name": "python",
   "nbconvert_exporter": "python",
   "pygments_lexer": "ipython3",
   "version": "3.10.6"
  }
 },
 "nbformat": 4,
 "nbformat_minor": 2
}
